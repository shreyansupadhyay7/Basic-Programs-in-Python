{
 "cells": [
  {
   "cell_type": "markdown",
   "metadata": {},
   "source": [
    "# Find the Factors of a Number"
   ]
  },
  {
   "cell_type": "code",
   "execution_count": 4,
   "metadata": {},
   "outputs": [
    {
     "name": "stdout",
     "output_type": "stream",
     "text": [
      "Enter a Number:79\n",
      "Factors of 79 = [1, 79]\n"
     ]
    }
   ],
   "source": [
    "no=int(input(\"Enter a Number:\"))\n",
    "factors=[]\n",
    "for i in range(1,no+1):\n",
    "    if no%i==0:\n",
    "        factors.append(i)\n",
    "print (\"Factors of {} = {}\".format(no,factors))        "
   ]
  },
  {
   "cell_type": "markdown",
   "metadata": {},
   "source": [
    "# Find the Factorial of a number "
   ]
  },
  {
   "cell_type": "code",
   "execution_count": 5,
   "metadata": {},
   "outputs": [
    {
     "name": "stdout",
     "output_type": "stream",
     "text": [
      "Enter a number: 25\n",
      "The factorial of 25 is 15511210043330985984000000\n"
     ]
    }
   ],
   "source": [
    "#Take the number from the User\n",
    "num = int(input(\"Enter a number: \"))  \n",
    "factorial = 1  \n",
    "#check if number is less than zero\n",
    "if num < 0:  \n",
    "   print(\"Sorry, factorial does not exist for negative numbers\")  \n",
    "#check if number is equalto zero\n",
    "elif num == 0:  \n",
    "   print(\"The factorial of 0 is 1\")  \n",
    "#perform the actual logic\n",
    "else:  \n",
    "   for i in range(1,num + 1):  \n",
    "       factorial = factorial*i  \n",
    "   #print the factorial of the number\n",
    "   print(\"The factorial of\",num,\"is\",factorial)"
   ]
  },
  {
   "cell_type": "markdown",
   "metadata": {},
   "source": [
    "# Program to print the Armstrong number in a certain range"
   ]
  },
  {
   "cell_type": "code",
   "execution_count": 8,
   "metadata": {},
   "outputs": [
    {
     "name": "stdout",
     "output_type": "stream",
     "text": [
      "Enter The Lower Limit100\n",
      "Enter the Upper Limit10000\n",
      "153\n",
      "370\n",
      "371\n",
      "407\n",
      "1634\n",
      "8208\n",
      "9474\n"
     ]
    }
   ],
   "source": [
    "l=int(input('Enter The Lower Limit'))\n",
    "u=int(input('Enter the Upper Limit'))\n",
    "for num in range(l,u+1):\n",
    "   # order of number\n",
    "   order = len(str(num))\n",
    "    \n",
    "   # initialize sum\n",
    "   sum = 0\n",
    "   temp = num\n",
    "   while temp > 0:\n",
    "       digit = temp % 10\n",
    "       sum += digit ** order\n",
    "       temp //= 10\n",
    "   if num == sum:\n",
    "       print(num)"
   ]
  },
  {
   "cell_type": "markdown",
   "metadata": {},
   "source": [
    "# Program to check whether a number is armstrong or not"
   ]
  },
  {
   "cell_type": "code",
   "execution_count": 13,
   "metadata": {},
   "outputs": [
    {
     "name": "stdout",
     "output_type": "stream",
     "text": [
      "Enter a number: 407\n",
      "407 is an Armstrong number\n"
     ]
    }
   ],
   "source": [
    "num = int(input(\"Enter a number: \"))  \n",
    "sum = 0  \n",
    "temp = num  \n",
    "while temp > 0:  \n",
    "   digit = temp % 10  \n",
    "   sum += digit ** 3  \n",
    "   temp //= 10  \n",
    "if num == sum:  \n",
    "   print(num,\"is an Armstrong number\")  \n",
    "else:  \n",
    "   print(num,\"is not an Armstrong number\")"
   ]
  },
  {
   "cell_type": "markdown",
   "metadata": {},
   "source": [
    "# Program to check whether the given string is Palindrome or not "
   ]
  },
  {
   "cell_type": "code",
   "execution_count": 15,
   "metadata": {},
   "outputs": [
    {
     "name": "stdout",
     "output_type": "stream",
     "text": [
      "Please enter your own String : MADAM\n",
      "This is a Palindrome String\n"
     ]
    }
   ],
   "source": [
    "string = input(\"Please enter your own String : \")\n",
    "if(string == string[:: - 1]):\n",
    "   print(\"This is a Palindrome String\")\n",
    "else:\n",
    "   print(\"This is Not a Palindrome String\")"
   ]
  },
  {
   "cell_type": "markdown",
   "metadata": {},
   "source": [
    "# Program to check whether the given number is Palindrome or not "
   ]
  },
  {
   "cell_type": "code",
   "execution_count": 17,
   "metadata": {},
   "outputs": [
    {
     "name": "stdout",
     "output_type": "stream",
     "text": [
      "Enter a number:120\n",
      "The number is Not a palindrome!\n"
     ]
    }
   ],
   "source": [
    "num=int(input(\"Enter a number:\"))\n",
    "temp=num\n",
    "rev=0\n",
    "while(num>0):\n",
    "    dig=num%10\n",
    "    rev=rev*10+dig\n",
    "    num=num//10\n",
    "if(temp==rev):\n",
    "    print(\"The number is palindrome!\")\n",
    "else:\n",
    "    print(\"The number is Not a palindrome!\")"
   ]
  },
  {
   "cell_type": "markdown",
   "metadata": {},
   "source": [
    "# Program to check whether a number is Prime Or Not"
   ]
  },
  {
   "cell_type": "code",
   "execution_count": 21,
   "metadata": {},
   "outputs": [
    {
     "name": "stdout",
     "output_type": "stream",
     "text": [
      "Enter a number to check whether it is Prime or NOT: 21\n",
      "21 is not a prime number\n"
     ]
    }
   ],
   "source": [
    "num=int(input('Enter a number to check whether it is Prime or NOT: '))\n",
    "if num > 1: \n",
    "   for i in range(2, num//2):   \n",
    "       if (num % i) == 0: \n",
    "           print(num, \"is not a prime number\") \n",
    "           break\n",
    "   else: \n",
    "       print(num, \"is a prime number\") \n",
    "else: \n",
    "   print(num, \"is not a prime number\")"
   ]
  },
  {
   "cell_type": "markdown",
   "metadata": {},
   "source": [
    "# Program to print the Prime Number in certain range"
   ]
  },
  {
   "cell_type": "code",
   "execution_count": 24,
   "metadata": {},
   "outputs": [
    {
     "name": "stdout",
     "output_type": "stream",
     "text": [
      "Enter lower range: 1\n",
      "Enter upper range: 25\n",
      "2\n",
      "3\n",
      "5\n",
      "7\n",
      "11\n",
      "13\n",
      "17\n",
      "19\n",
      "23\n"
     ]
    }
   ],
   "source": [
    "lower = int(input(\"Enter lower range: \"))  \n",
    "upper = int(input(\"Enter upper range: \"))  \n",
    "for num in range(lower,upper + 1):  \n",
    "   if num > 1:  \n",
    "       for i in range(2,num):  \n",
    "           if (num % i) == 0:  \n",
    "               break  \n",
    "       else:  \n",
    "           print(num)"
   ]
  },
  {
   "cell_type": "markdown",
   "metadata": {},
   "source": [
    "# Program to print Fibonacci Series from 1 to 20"
   ]
  },
  {
   "cell_type": "code",
   "execution_count": 29,
   "metadata": {
    "scrolled": true
   },
   "outputs": [
    {
     "name": "stdout",
     "output_type": "stream",
     "text": [
      "How many terms? 20\n",
      "Fibonacci sequence:\n",
      "0\n",
      "1\n",
      "1\n",
      "2\n",
      "3\n",
      "5\n",
      "8\n",
      "13\n",
      "21\n",
      "34\n",
      "55\n",
      "89\n",
      "144\n",
      "233\n",
      "377\n",
      "610\n",
      "987\n",
      "1597\n",
      "2584\n",
      "4181\n"
     ]
    }
   ],
   "source": [
    "nterms = int(input(\"How many terms? \"))\n",
    "# first two terms\n",
    "n1, n2 = 0, 1\n",
    "count = 0\n",
    "# check if the number of terms is valid\n",
    "if nterms <= 0:\n",
    "   print(\"Please enter a positive integer\")\n",
    "elif nterms == 1:\n",
    "   print(\"Fibonacci sequence upto\",nterms,\":\")\n",
    "   print(n1)\n",
    "else:\n",
    "   print(\"Fibonacci sequence:\")\n",
    "   while count < nterms:\n",
    "       print(n1)\n",
    "       nth = n1 + n2\n",
    "       # update values\n",
    "       n1 = n2\n",
    "       n2 = nth\n",
    "       count += 1"
   ]
  },
  {
   "cell_type": "markdown",
   "metadata": {},
   "source": [
    "# Program to find if a number is positive, negative or Zero"
   ]
  },
  {
   "cell_type": "code",
   "execution_count": 31,
   "metadata": {},
   "outputs": [
    {
     "name": "stdout",
     "output_type": "stream",
     "text": [
      "Enter a number: 0\n",
      "Zero\n"
     ]
    }
   ],
   "source": [
    "num = int(input(\"Enter a number: \"))\n",
    "if num > 0:\n",
    "   print(\"Positive number\")\n",
    "elif num == 0:\n",
    "   print(\"Zero\")\n",
    "else:\n",
    "   print(\"Negative number\")"
   ]
  },
  {
   "cell_type": "code",
   "execution_count": null,
   "metadata": {},
   "outputs": [],
   "source": []
  }
 ],
 "metadata": {
  "kernelspec": {
   "display_name": "Python 3",
   "language": "python",
   "name": "python3"
  },
  "language_info": {
   "codemirror_mode": {
    "name": "ipython",
    "version": 3
   },
   "file_extension": ".py",
   "mimetype": "text/x-python",
   "name": "python",
   "nbconvert_exporter": "python",
   "pygments_lexer": "ipython3",
   "version": "3.7.3"
  }
 },
 "nbformat": 4,
 "nbformat_minor": 2
}
